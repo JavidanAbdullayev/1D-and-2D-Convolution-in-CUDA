{
  "nbformat": 4,
  "nbformat_minor": 0,
  "metadata": {
    "colab": {
      "name": "1D_Concolution_in_CUDA.ipynb",
      "provenance": [],
      "collapsed_sections": []
    },
    "kernelspec": {
      "name": "python3",
      "display_name": "Python 3"
    },
    "accelerator": "GPU"
  },
  "cells": [
    {
      "cell_type": "code",
      "metadata": {
        "colab": {
          "base_uri": "https://localhost:8080/"
        },
        "id": "c4Im4KlaVX2T",
        "outputId": "66560a78-9870-43a3-a7f4-38e9e33b8339"
      },
      "source": [
        "!pip install git+git://github.com/andreinechaev/nvcc4jupyter.git"
      ],
      "execution_count": 5,
      "outputs": [
        {
          "output_type": "stream",
          "text": [
            "Collecting git+git://github.com/andreinechaev/nvcc4jupyter.git\n",
            "  Cloning git://github.com/andreinechaev/nvcc4jupyter.git to /tmp/pip-req-build-w8iafvzk\n",
            "  Running command git clone -q git://github.com/andreinechaev/nvcc4jupyter.git /tmp/pip-req-build-w8iafvzk\n",
            "Requirement already satisfied (use --upgrade to upgrade): NVCCPlugin==0.0.2 from git+git://github.com/andreinechaev/nvcc4jupyter.git in /usr/local/lib/python3.7/dist-packages\n",
            "Building wheels for collected packages: NVCCPlugin\n",
            "  Building wheel for NVCCPlugin (setup.py) ... \u001b[?25l\u001b[?25hdone\n",
            "  Created wheel for NVCCPlugin: filename=NVCCPlugin-0.0.2-cp37-none-any.whl size=4307 sha256=ff607a5bcf4eeb285c40ce503103bb09c8bad810c416de75058249dba4483bfc\n",
            "  Stored in directory: /tmp/pip-ephem-wheel-cache-42o292xq/wheels/10/c2/05/ca241da37bff77d60d31a9174f988109c61ba989e4d4650516\n",
            "Successfully built NVCCPlugin\n"
          ],
          "name": "stdout"
        }
      ]
    },
    {
      "cell_type": "code",
      "metadata": {
        "colab": {
          "base_uri": "https://localhost:8080/"
        },
        "id": "V1YkHZjbVeWg",
        "outputId": "bec1bb3b-0d02-4400-b7d0-6705b396bff8"
      },
      "source": [
        "%load_ext nvcc_plugin"
      ],
      "execution_count": 7,
      "outputs": [
        {
          "output_type": "stream",
          "text": [
            "The nvcc_plugin extension is already loaded. To reload it, use:\n",
            "  %reload_ext nvcc_plugin\n"
          ],
          "name": "stdout"
        }
      ]
    },
    {
      "cell_type": "code",
      "metadata": {
        "colab": {
          "base_uri": "https://localhost:8080/"
        },
        "id": "BVCso0BWwQzd",
        "outputId": "a9010738-ea14-4e44-a25f-e2402763a9cb"
      },
      "source": [
        "%%cu\n",
        "#include <stdio.h>\n",
        "#include <cuda.h>\n",
        "#include <cuda_runtime.h>\n",
        "#include <device_launch_parameters.h>\n",
        "#include <cuda_runtime_api.h>\n",
        "#include <algorithm>\n",
        "#include <cassert>\n",
        "#include <cstdlib>\n",
        "#include <time.h>\n",
        "#include <iostream>\n",
        "#include \"device_launch_parameters.h\"\n",
        "using namespace std;\n",
        "\n",
        "#define MAX_MASK_WIDTH 10\n",
        "__constant__ float M[MAX_MASK_WIDTH];\n",
        "\n",
        "\n",
        "__global__ void convolution_1D_basic_kernel(int* N, int* M, int * P, int Mask_Width, int Width){\n",
        "  \n",
        "  int i = threadIdx.x + blockDim.x*blockIdx.x;\n",
        "  int Pvalue = 0;\n",
        "  int N_start_point = i - (Mask_Width/2);\n",
        "  for (int j=0; j<Mask_Width; j++){\n",
        "      if (N_start_point + j >= 0 && N_start_point + j < Width){\n",
        "        Pvalue += N[N_start_point+j] * M[j];\n",
        "      }\n",
        "  }\n",
        "  P[i] = Pvalue;\n",
        "}\n",
        "\n",
        "int main(){\n",
        "\n",
        "  const int ARRAY_SIZE = 9;\n",
        "  const int ARRAY_WIDTH = 9;\n",
        "  const int MASK_WIDTH = 5;\n",
        "  const int MASK_SIZE = 5;\n",
        "\n",
        "  int h_N[] = {1, 2, 3, 4, 5, 6, 7, 8, 9};\n",
        "  int h_M[] = {1, 1, 1, 1, 1};\n",
        "  int *h_P;\n",
        "  int* d_N, * d_M, * d_P;\n",
        "  \n",
        "  cudaMallocHost(&h_P, ARRAY_SIZE * sizeof(int));\n",
        "\n",
        "  cudaMalloc(&d_N, ARRAY_SIZE * sizeof(int));\n",
        "  cudaMalloc(&d_M, MASK_SIZE*sizeof(int));\n",
        "  cudaMalloc(&d_P, ARRAY_SIZE * sizeof(int));\n",
        "\n",
        "  cudaMemcpy(d_N, h_N, ARRAY_SIZE * sizeof(int), cudaMemcpyHostToDevice);\n",
        "  cudaMemcpy(d_M, h_M, MASK_SIZE * sizeof(int), cudaMemcpyHostToDevice);\n",
        "  cudaMemcpyToSymbol(M, h_M, MASK_WIDTH * sizeof(int));\n",
        "\n",
        "  convolution_1D_basic_kernel<<<1, ARRAY_WIDTH>>>(d_N, d_M, d_P, MASK_WIDTH, ARRAY_WIDTH);\n",
        "\n",
        "  cudaMemcpy(h_P, d_P, ARRAY_SIZE * sizeof(int), cudaMemcpyDeviceToHost);  \n",
        "  cudaDeviceSynchronize();\n",
        "  for (int i=0; i<ARRAY_SIZE; i++) cout << h_P[i] << \" \";\n",
        "  return 0;\n",
        "}"
      ],
      "execution_count": 8,
      "outputs": [
        {
          "output_type": "stream",
          "text": [
            "6 10 15 20 25 30 35 30 24 \n"
          ],
          "name": "stdout"
        }
      ]
    },
    {
      "cell_type": "code",
      "metadata": {
        "id": "NXvLbY9GQGwK"
      },
      "source": [
        ""
      ],
      "execution_count": null,
      "outputs": []
    }
  ]
}