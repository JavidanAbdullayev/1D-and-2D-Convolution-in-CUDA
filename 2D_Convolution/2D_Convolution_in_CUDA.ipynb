{
  "nbformat": 4,
  "nbformat_minor": 0,
  "metadata": {
    "colab": {
      "name": "2D_Convolution_in_CUDA.ipynb",
      "provenance": [],
      "collapsed_sections": []
    },
    "kernelspec": {
      "name": "python3",
      "display_name": "Python 3"
    },
    "accelerator": "GPU"
  },
  "cells": [
    {
      "cell_type": "code",
      "metadata": {
        "colab": {
          "base_uri": "https://localhost:8080/"
        },
        "id": "c4Im4KlaVX2T",
        "outputId": "99f33466-9c5a-4fcb-9f9d-12b398118a8a"
      },
      "source": [
        "!pip install git+git://github.com/andreinechaev/nvcc4jupyter.git"
      ],
      "execution_count": null,
      "outputs": [
        {
          "output_type": "stream",
          "text": [
            "Collecting git+git://github.com/andreinechaev/nvcc4jupyter.git\n",
            "  Cloning git://github.com/andreinechaev/nvcc4jupyter.git to /tmp/pip-req-build-joj1pcxy\n",
            "  Running command git clone -q git://github.com/andreinechaev/nvcc4jupyter.git /tmp/pip-req-build-joj1pcxy\n",
            "Building wheels for collected packages: NVCCPlugin\n",
            "  Building wheel for NVCCPlugin (setup.py) ... \u001b[?25l\u001b[?25hdone\n",
            "  Created wheel for NVCCPlugin: filename=NVCCPlugin-0.0.2-cp37-none-any.whl size=4307 sha256=213d290f802b04ffab32d6894e75694bfdf512e825139868f298c0b342cf3760\n",
            "  Stored in directory: /tmp/pip-ephem-wheel-cache-4t6nnhc3/wheels/10/c2/05/ca241da37bff77d60d31a9174f988109c61ba989e4d4650516\n",
            "Successfully built NVCCPlugin\n",
            "Installing collected packages: NVCCPlugin\n",
            "Successfully installed NVCCPlugin-0.0.2\n"
          ],
          "name": "stdout"
        }
      ]
    },
    {
      "cell_type": "code",
      "metadata": {
        "colab": {
          "base_uri": "https://localhost:8080/"
        },
        "id": "V1YkHZjbVeWg",
        "outputId": "991625df-33f7-4d84-883d-6a21c9e920ec"
      },
      "source": [
        "%load_ext nvcc_plugin"
      ],
      "execution_count": null,
      "outputs": [
        {
          "output_type": "stream",
          "text": [
            "created output directory at /content/src\n",
            "Out bin /content/result.out\n"
          ],
          "name": "stdout"
        }
      ]
    },
    {
      "cell_type": "code",
      "metadata": {
        "colab": {
          "base_uri": "https://localhost:8080/"
        },
        "id": "g3_guGIGRrGk",
        "outputId": "dc61b5c1-e930-435a-b976-d11498c297df"
      },
      "source": [
        "%%cu\n",
        "#include <stdio.h>\n",
        "#include <cuda.h>\n",
        "#include <cuda_runtime.h>\n",
        "#include <device_launch_parameters.h>\n",
        "#include <cuda_runtime_api.h>\n",
        "#include <algorithm>\n",
        "#include <cassert>\n",
        "#include <cstdlib>\n",
        "#include <time.h>\n",
        "#include <iostream>\n",
        "#include \"device_launch_parameters.h\"\n",
        "using namespace std;\n",
        "\n",
        "#define MAX_MASK_WIDTH 5\n",
        "__constant__ int M[MAX_MASK_WIDTH];\n",
        "\n",
        "__global__ void convolution_2D_basic_kernel(int *N, int * M, int *P, int m_width, int a_width, int a_height){\n",
        "    int col = blockIdx.x * blockDim.x + threadIdx.x;\n",
        "    int row = blockIdx.y * blockDim.y + threadIdx.y;\n",
        "    int id = row*a_width + col;\n",
        "    extern __shared__ int sdata[];\n",
        "    sdata[id] = N[id];\n",
        "    __syncthreads();\n",
        "\n",
        "    int val=0;\n",
        "    int N_start_col = col - (m_width/2);\n",
        "    int N_start_row = row - (m_width/2);\n",
        "\n",
        "    for (int i=0; i<m_width; i++){\n",
        "        for (int j=0; j<m_width; j++){\n",
        "            int curRow = N_start_row+i; \n",
        "            int curCol = N_start_col+j; \n",
        "\n",
        "            if (curRow >= 0 && curRow < a_height && curCol >= 0 && curCol < a_width){\n",
        "                val += sdata[curRow*a_width+curCol]*M[i*m_width+j];\n",
        "            }\n",
        "        }\n",
        "    }\n",
        "    \n",
        "\n",
        "    P[row*a_width+col] = val;\n",
        "}\n",
        "\n",
        "int main(){ \n",
        "  int ARRAY_SIZE = 25;\n",
        "  int ARRAY_WIDTH = 5;\n",
        "  int MASK_WIDTH = 3;\n",
        "  int MASK_SIZE = 9;\n",
        "\n",
        "  int h_N[] = {2, 2, 2, 2, 2,\n",
        "               2, 2, 2, 2, 2,         \n",
        "               2, 2, 2, 2, 2,\n",
        "               2, 2, 2, 2, 2,\n",
        "               2, 2, 2, 2, 2};      \n",
        "\n",
        "  int h_M[] = {1, 1, 1,\n",
        "               1, 1, 1,\n",
        "               1, 1, 1};\n",
        "\n",
        "  int *h_P;\n",
        "  int* d_N, * d_M,  * d_P;\n",
        "  cudaMallocHost(&h_P, ARRAY_SIZE * sizeof(int));\n",
        "\n",
        "  cudaMalloc(&d_N, ARRAY_SIZE * sizeof(int));\n",
        "  cudaMalloc(&d_M, MASK_SIZE*sizeof(int));\n",
        "  cudaMalloc(&d_P, ARRAY_SIZE * sizeof(int));\n",
        "\n",
        "  cudaMemcpy(d_N, h_N, ARRAY_SIZE * sizeof(int), cudaMemcpyHostToDevice);\n",
        "  cudaMemcpy(d_M, h_M, MASK_SIZE * sizeof(int), cudaMemcpyHostToDevice);\n",
        "  cudaMemcpyToSymbol(M, h_M, MASK_WIDTH * sizeof(int));\n",
        "\n",
        "  dim3 GridSize(1,1,1);\n",
        "  dim3 BlockSize(5,5,1);\n",
        "  convolution_2D_basic_kernel<<<GridSize, BlockSize, 25*sizeof(int)>>>(d_N, d_M, d_P, MASK_WIDTH, ARRAY_WIDTH, ARRAY_WIDTH);\n",
        "\n",
        "  cudaMemcpy(h_P, d_P, ARRAY_SIZE * sizeof(int), cudaMemcpyDeviceToHost);  \n",
        "  cudaDeviceSynchronize();\n",
        "  cout << \"OUTPUT:\";\n",
        "  for (int i=0; i<ARRAY_SIZE; i++){\n",
        "    if (i%ARRAY_WIDTH==0) cout<<endl;\n",
        "    cout << h_P[i] << \" \";\n",
        "  }\n",
        "\n",
        "  return 0;\n",
        "}"
      ],
      "execution_count": null,
      "outputs": [
        {
          "output_type": "stream",
          "text": [
            "OUTPUT:\n",
            "8 12 12 12 8 \n",
            "12 18 18 18 12 \n",
            "12 18 18 18 12 \n",
            "12 18 18 18 12 \n",
            "8 12 12 12 8 \n"
          ],
          "name": "stdout"
        }
      ]
    }
  ]
}